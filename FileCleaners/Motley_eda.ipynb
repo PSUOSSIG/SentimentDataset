{
 "cells": [
  {
   "cell_type": "markdown",
   "metadata": {},
   "source": [
    "# **Initial Information**\n",
    "---\n",
    "The following dataset uses 132 URLs and obtains information pertaining to NVDA's stock, utilizing Google Search engine for our API Search. The following data's sentiments for every sentence has yet to be evaluated, and was pre-assigned sentiments based on Fin-BERT, a transformer-based sentiment classifier.\n"
   ]
  },
  {
   "cell_type": "markdown",
   "metadata": {},
   "source": [
    "# **Motley DataSet Cleanup**\n",
    "---\n",
    "The following is used to clean the forbes CSV file, and will be used as a blueprint for new data."
   ]
  },
  {
   "cell_type": "code",
   "execution_count": 13,
   "metadata": {},
   "outputs": [
    {
     "data": {
      "text/html": [
       "<div>\n",
       "<style scoped>\n",
       "    .dataframe tbody tr th:only-of-type {\n",
       "        vertical-align: middle;\n",
       "    }\n",
       "\n",
       "    .dataframe tbody tr th {\n",
       "        vertical-align: top;\n",
       "    }\n",
       "\n",
       "    .dataframe thead th {\n",
       "        text-align: right;\n",
       "    }\n",
       "</style>\n",
       "<table border=\"1\" class=\"dataframe\">\n",
       "  <thead>\n",
       "    <tr style=\"text-align: right;\">\n",
       "      <th></th>\n",
       "      <th>url</th>\n",
       "      <th>date</th>\n",
       "      <th>case_text</th>\n",
       "      <th>label</th>\n",
       "      <th>score</th>\n",
       "      <th>score_positive</th>\n",
       "      <th>score_neutral</th>\n",
       "      <th>score_negative</th>\n",
       "      <th>numeric_label</th>\n",
       "    </tr>\n",
       "  </thead>\n",
       "  <tbody>\n",
       "    <tr>\n",
       "      <th>0</th>\n",
       "      <td>https://www.fool.com/investing/2022/01/10/why-nvidia-stock-soared-in-2021/</td>\n",
       "      <td>2022-01-10T10:20:33-05:00</td>\n",
       "      <td>Founded in 1993, The Motley Fool is a financial services company dedicated to making the world smarter, happier, and richer. The Motley Fool reaches millions of people every month through our premium investing solutions, free guidance and market analysis on Fool.com, top-rated podcasts, and non-profit The Motley Fool Foundation. Founded in 1993, The Motley Fool is a financial services company dedicated to making the world smarter, happier, and richer.</td>\n",
       "      <td>neutral</td>\n",
       "      <td>0.919492</td>\n",
       "      <td>0.065100</td>\n",
       "      <td>0.919492</td>\n",
       "      <td>0.015408</td>\n",
       "      <td>0</td>\n",
       "    </tr>\n",
       "    <tr>\n",
       "      <th>1</th>\n",
       "      <td>https://www.fool.com/investing/2022/01/10/why-nvidia-stock-soared-in-2021/</td>\n",
       "      <td>2022-01-10T10:20:33-05:00</td>\n",
       "      <td>The Motley Fool reaches millions of people every month through our premium investing solutions, free guidance and market analysis on Fool.com, personal finance education, top-rated podcasts, and non-profit The Motley Fool Foundation. Founded in 1993, The Motley Fool is a financial services company dedicated to making the world smarter, happier, and richer.</td>\n",
       "      <td>neutral</td>\n",
       "      <td>0.855451</td>\n",
       "      <td>0.134116</td>\n",
       "      <td>0.855451</td>\n",
       "      <td>0.010433</td>\n",
       "      <td>0</td>\n",
       "    </tr>\n",
       "    <tr>\n",
       "      <th>2</th>\n",
       "      <td>https://www.fool.com/investing/2022/01/10/why-nvidia-stock-soared-in-2021/</td>\n",
       "      <td>2022-01-10T10:20:33-05:00</td>\n",
       "      <td>The Motley Fool reaches millions of people every month through our premium investing solutions, free guidance and market analysis on Fool.com, top-rated podcasts, and non-profit The Motley Fool Foundation. Founded in 1993, The Motley Fool is a financial services company dedicated to making the world smarter, happier, and richer. The Motley Fool reaches millions of people every month through our premium investing solutions, free guidance and market analysis on Fool.com, personal finance education, top-rated podcasts, and non-profit The Motley Fool Foundation.</td>\n",
       "      <td>neutral</td>\n",
       "      <td>0.873373</td>\n",
       "      <td>0.115334</td>\n",
       "      <td>0.873373</td>\n",
       "      <td>0.011292</td>\n",
       "      <td>0</td>\n",
       "    </tr>\n",
       "    <tr>\n",
       "      <th>3</th>\n",
       "      <td>https://www.fool.com/investing/2022/01/10/why-nvidia-stock-soared-in-2021/</td>\n",
       "      <td>2022-01-10T10:20:33-05:00</td>\n",
       "      <td>You're reading a free article with opinions that may differ\\r\\n       from The Motley Fool's Premium Investing Services. Become a Motley Fool member today to\\r\\n       get instant access to our top analyst recommendations, in-depth research, investing resources,\\r\\n       and more.</td>\n",
       "      <td>neutral</td>\n",
       "      <td>0.844963</td>\n",
       "      <td>0.144721</td>\n",
       "      <td>0.844963</td>\n",
       "      <td>0.010316</td>\n",
       "      <td>0</td>\n",
       "    </tr>\n",
       "    <tr>\n",
       "      <th>4</th>\n",
       "      <td>https://www.fool.com/investing/2022/01/10/why-nvidia-stock-soared-in-2021/</td>\n",
       "      <td>2022-01-10T10:20:33-05:00</td>\n",
       "      <td>Learn More\\r\\n Key Points A late-year surge in Nvidia shares came as investors and analysts recognized a new catalyst ahead. 2021 was a big, and transitional, year for specialty semiconductor chip company Nvidia (NVDA -0.96%). The company mostly known for gaming and graphics cards evolved over the course of the year, and investors took notice.</td>\n",
       "      <td>positive</td>\n",
       "      <td>0.938613</td>\n",
       "      <td>0.938613</td>\n",
       "      <td>0.041304</td>\n",
       "      <td>0.020083</td>\n",
       "      <td>1</td>\n",
       "    </tr>\n",
       "  </tbody>\n",
       "</table>\n",
       "</div>"
      ],
      "text/plain": [
       "                                                                          url  \\\n",
       "0  https://www.fool.com/investing/2022/01/10/why-nvidia-stock-soared-in-2021/   \n",
       "1  https://www.fool.com/investing/2022/01/10/why-nvidia-stock-soared-in-2021/   \n",
       "2  https://www.fool.com/investing/2022/01/10/why-nvidia-stock-soared-in-2021/   \n",
       "3  https://www.fool.com/investing/2022/01/10/why-nvidia-stock-soared-in-2021/   \n",
       "4  https://www.fool.com/investing/2022/01/10/why-nvidia-stock-soared-in-2021/   \n",
       "\n",
       "                        date  \\\n",
       "0  2022-01-10T10:20:33-05:00   \n",
       "1  2022-01-10T10:20:33-05:00   \n",
       "2  2022-01-10T10:20:33-05:00   \n",
       "3  2022-01-10T10:20:33-05:00   \n",
       "4  2022-01-10T10:20:33-05:00   \n",
       "\n",
       "                                                                                                                                                                                                                                                                                                                                                                                                                                                                                                                                                                              case_text  \\\n",
       "0                                                                                                               Founded in 1993, The Motley Fool is a financial services company dedicated to making the world smarter, happier, and richer. The Motley Fool reaches millions of people every month through our premium investing solutions, free guidance and market analysis on Fool.com, top-rated podcasts, and non-profit The Motley Fool Foundation. Founded in 1993, The Motley Fool is a financial services company dedicated to making the world smarter, happier, and richer.   \n",
       "1                                                                                                                                                                                                                The Motley Fool reaches millions of people every month through our premium investing solutions, free guidance and market analysis on Fool.com, personal finance education, top-rated podcasts, and non-profit The Motley Fool Foundation. Founded in 1993, The Motley Fool is a financial services company dedicated to making the world smarter, happier, and richer.   \n",
       "2  The Motley Fool reaches millions of people every month through our premium investing solutions, free guidance and market analysis on Fool.com, top-rated podcasts, and non-profit The Motley Fool Foundation. Founded in 1993, The Motley Fool is a financial services company dedicated to making the world smarter, happier, and richer. The Motley Fool reaches millions of people every month through our premium investing solutions, free guidance and market analysis on Fool.com, personal finance education, top-rated podcasts, and non-profit The Motley Fool Foundation.   \n",
       "3                                                                                                                                                                                                                                                                                            You're reading a free article with opinions that may differ\\r\\n       from The Motley Fool's Premium Investing Services. Become a Motley Fool member today to\\r\\n       get instant access to our top analyst recommendations, in-depth research, investing resources,\\r\\n       and more.   \n",
       "4                                                                                                                                                                                                                             Learn More\\r\\n Key Points A late-year surge in Nvidia shares came as investors and analysts recognized a new catalyst ahead. 2021 was a big, and transitional, year for specialty semiconductor chip company Nvidia (NVDA -0.96%). The company mostly known for gaming and graphics cards evolved over the course of the year, and investors took notice.   \n",
       "\n",
       "      label     score  score_positive  score_neutral  score_negative  \\\n",
       "0   neutral  0.919492        0.065100       0.919492        0.015408   \n",
       "1   neutral  0.855451        0.134116       0.855451        0.010433   \n",
       "2   neutral  0.873373        0.115334       0.873373        0.011292   \n",
       "3   neutral  0.844963        0.144721       0.844963        0.010316   \n",
       "4  positive  0.938613        0.938613       0.041304        0.020083   \n",
       "\n",
       "   numeric_label  \n",
       "0              0  \n",
       "1              0  \n",
       "2              0  \n",
       "3              0  \n",
       "4              1  "
      ]
     },
     "execution_count": 13,
     "metadata": {},
     "output_type": "execute_result"
    }
   ],
   "source": [
    "import pandas as pd\n",
    "import matplotlib.pyplot as plt\n",
    "import re\n",
    "\n",
    "df = pd.read_csv(\"Scrapersandrawfiles/MotleyFoolData/nvda_sentence_sentiment_dataset.csv\")\n",
    "df.head()"
   ]
  },
  {
   "cell_type": "markdown",
   "metadata": {},
   "source": [
    "Checking Unique URLS: (total successful scrapes out of 493)"
   ]
  },
  {
   "cell_type": "code",
   "execution_count": 14,
   "metadata": {},
   "outputs": [
    {
     "name": "stdout",
     "output_type": "stream",
     "text": [
      "Unique URLs: 493\n"
     ]
    }
   ],
   "source": [
    "unique_urls = df['url'].nunique()\n",
    "print(\"Unique URLs:\", unique_urls)"
   ]
  },
  {
   "cell_type": "markdown",
   "metadata": {},
   "source": [
    "That's more like it.\n",
    "\n"
   ]
  },
  {
   "cell_type": "markdown",
   "metadata": {},
   "source": [
    "## **Date Time Corrections**\n",
    "---\n",
    "I noticed discrepencies when loading in the correct data for dates. We will be exploring and correcting these."
   ]
  },
  {
   "cell_type": "code",
   "execution_count": 15,
   "metadata": {},
   "outputs": [
    {
     "name": "stdout",
     "output_type": "stream",
     "text": [
      "url                object\n",
      "date               object\n",
      "case_text          object\n",
      "label              object\n",
      "score             float64\n",
      "score_positive    float64\n",
      "score_neutral     float64\n",
      "score_negative    float64\n",
      "numeric_label       int64\n",
      "dtype: object\n",
      "                                                                          url  \\\n",
      "0  https://www.fool.com/investing/2022/01/10/why-nvidia-stock-soared-in-2021/   \n",
      "1  https://www.fool.com/investing/2022/01/10/why-nvidia-stock-soared-in-2021/   \n",
      "2  https://www.fool.com/investing/2022/01/10/why-nvidia-stock-soared-in-2021/   \n",
      "3  https://www.fool.com/investing/2022/01/10/why-nvidia-stock-soared-in-2021/   \n",
      "4  https://www.fool.com/investing/2022/01/10/why-nvidia-stock-soared-in-2021/   \n",
      "\n",
      "                        date  \\\n",
      "0  2022-01-10T10:20:33-05:00   \n",
      "1  2022-01-10T10:20:33-05:00   \n",
      "2  2022-01-10T10:20:33-05:00   \n",
      "3  2022-01-10T10:20:33-05:00   \n",
      "4  2022-01-10T10:20:33-05:00   \n",
      "\n",
      "                                                                                                                                                                                                                                                                                                                                                                                                                                                                                                                                                                              case_text  \\\n",
      "0                                                                                                               Founded in 1993, The Motley Fool is a financial services company dedicated to making the world smarter, happier, and richer. The Motley Fool reaches millions of people every month through our premium investing solutions, free guidance and market analysis on Fool.com, top-rated podcasts, and non-profit The Motley Fool Foundation. Founded in 1993, The Motley Fool is a financial services company dedicated to making the world smarter, happier, and richer.   \n",
      "1                                                                                                                                                                                                                The Motley Fool reaches millions of people every month through our premium investing solutions, free guidance and market analysis on Fool.com, personal finance education, top-rated podcasts, and non-profit The Motley Fool Foundation. Founded in 1993, The Motley Fool is a financial services company dedicated to making the world smarter, happier, and richer.   \n",
      "2  The Motley Fool reaches millions of people every month through our premium investing solutions, free guidance and market analysis on Fool.com, top-rated podcasts, and non-profit The Motley Fool Foundation. Founded in 1993, The Motley Fool is a financial services company dedicated to making the world smarter, happier, and richer. The Motley Fool reaches millions of people every month through our premium investing solutions, free guidance and market analysis on Fool.com, personal finance education, top-rated podcasts, and non-profit The Motley Fool Foundation.   \n",
      "3                                                                                                                                                                                                                                                                                            You're reading a free article with opinions that may differ\\r\\n       from The Motley Fool's Premium Investing Services. Become a Motley Fool member today to\\r\\n       get instant access to our top analyst recommendations, in-depth research, investing resources,\\r\\n       and more.   \n",
      "4                                                                                                                                                                                                                             Learn More\\r\\n Key Points A late-year surge in Nvidia shares came as investors and analysts recognized a new catalyst ahead. 2021 was a big, and transitional, year for specialty semiconductor chip company Nvidia (NVDA -0.96%). The company mostly known for gaming and graphics cards evolved over the course of the year, and investors took notice.   \n",
      "\n",
      "      label     score  score_positive  score_neutral  score_negative  \\\n",
      "0   neutral  0.919492        0.065100       0.919492        0.015408   \n",
      "1   neutral  0.855451        0.134116       0.855451        0.010433   \n",
      "2   neutral  0.873373        0.115334       0.873373        0.011292   \n",
      "3   neutral  0.844963        0.144721       0.844963        0.010316   \n",
      "4  positive  0.938613        0.938613       0.041304        0.020083   \n",
      "\n",
      "   numeric_label  \n",
      "0              0  \n",
      "1              0  \n",
      "2              0  \n",
      "3              0  \n",
      "4              1  \n",
      "15907\n"
     ]
    }
   ],
   "source": [
    "print(df.dtypes)\n",
    "df['date'] = df['date'].astype(str)\n",
    "print(df.head())\n",
    "print(df.shape[0])"
   ]
  },
  {
   "cell_type": "code",
   "execution_count": 16,
   "metadata": {},
   "outputs": [
    {
     "name": "stdout",
     "output_type": "stream",
     "text": [
      "\n",
      "Date Format: Unknown Format\n"
     ]
    },
    {
     "data": {
      "text/html": [
       "<div>\n",
       "<style scoped>\n",
       "    .dataframe tbody tr th:only-of-type {\n",
       "        vertical-align: middle;\n",
       "    }\n",
       "\n",
       "    .dataframe tbody tr th {\n",
       "        vertical-align: top;\n",
       "    }\n",
       "\n",
       "    .dataframe thead th {\n",
       "        text-align: right;\n",
       "    }\n",
       "</style>\n",
       "<table border=\"1\" class=\"dataframe\">\n",
       "  <thead>\n",
       "    <tr style=\"text-align: right;\">\n",
       "      <th></th>\n",
       "      <th>date</th>\n",
       "    </tr>\n",
       "  </thead>\n",
       "  <tbody>\n",
       "    <tr>\n",
       "      <th>0</th>\n",
       "      <td>2022-01-10T10:20:33-05:00</td>\n",
       "    </tr>\n",
       "    <tr>\n",
       "      <th>1</th>\n",
       "      <td>2022-01-10T10:20:33-05:00</td>\n",
       "    </tr>\n",
       "    <tr>\n",
       "      <th>2</th>\n",
       "      <td>2022-01-10T10:20:33-05:00</td>\n",
       "    </tr>\n",
       "    <tr>\n",
       "      <th>3</th>\n",
       "      <td>2022-01-10T10:20:33-05:00</td>\n",
       "    </tr>\n",
       "    <tr>\n",
       "      <th>4</th>\n",
       "      <td>2022-01-10T10:20:33-05:00</td>\n",
       "    </tr>\n",
       "    <tr>\n",
       "      <th>...</th>\n",
       "      <td>...</td>\n",
       "    </tr>\n",
       "    <tr>\n",
       "      <th>15902</th>\n",
       "      <td>2025-02-16T07:00:00-05:00</td>\n",
       "    </tr>\n",
       "    <tr>\n",
       "      <th>15903</th>\n",
       "      <td>2025-02-16T07:00:00-05:00</td>\n",
       "    </tr>\n",
       "    <tr>\n",
       "      <th>15904</th>\n",
       "      <td>2025-02-16T07:00:00-05:00</td>\n",
       "    </tr>\n",
       "    <tr>\n",
       "      <th>15905</th>\n",
       "      <td>2025-02-16T07:00:00-05:00</td>\n",
       "    </tr>\n",
       "    <tr>\n",
       "      <th>15906</th>\n",
       "      <td>2025-02-16T07:00:00-05:00</td>\n",
       "    </tr>\n",
       "  </tbody>\n",
       "</table>\n",
       "<p>14984 rows × 1 columns</p>\n",
       "</div>"
      ],
      "text/plain": [
       "                            date\n",
       "0      2022-01-10T10:20:33-05:00\n",
       "1      2022-01-10T10:20:33-05:00\n",
       "2      2022-01-10T10:20:33-05:00\n",
       "3      2022-01-10T10:20:33-05:00\n",
       "4      2022-01-10T10:20:33-05:00\n",
       "...                          ...\n",
       "15902  2025-02-16T07:00:00-05:00\n",
       "15903  2025-02-16T07:00:00-05:00\n",
       "15904  2025-02-16T07:00:00-05:00\n",
       "15905  2025-02-16T07:00:00-05:00\n",
       "15906  2025-02-16T07:00:00-05:00\n",
       "\n",
       "[14984 rows x 1 columns]"
      ]
     },
     "metadata": {},
     "output_type": "display_data"
    },
    {
     "name": "stdout",
     "output_type": "stream",
     "text": [
      "\n",
      "Date Format: NA or Empty\n"
     ]
    },
    {
     "data": {
      "text/html": [
       "<div>\n",
       "<style scoped>\n",
       "    .dataframe tbody tr th:only-of-type {\n",
       "        vertical-align: middle;\n",
       "    }\n",
       "\n",
       "    .dataframe tbody tr th {\n",
       "        vertical-align: top;\n",
       "    }\n",
       "\n",
       "    .dataframe thead th {\n",
       "        text-align: right;\n",
       "    }\n",
       "</style>\n",
       "<table border=\"1\" class=\"dataframe\">\n",
       "  <thead>\n",
       "    <tr style=\"text-align: right;\">\n",
       "      <th></th>\n",
       "      <th>date</th>\n",
       "    </tr>\n",
       "  </thead>\n",
       "  <tbody>\n",
       "    <tr>\n",
       "      <th>243</th>\n",
       "      <td>nan</td>\n",
       "    </tr>\n",
       "    <tr>\n",
       "      <th>244</th>\n",
       "      <td>nan</td>\n",
       "    </tr>\n",
       "    <tr>\n",
       "      <th>245</th>\n",
       "      <td>nan</td>\n",
       "    </tr>\n",
       "    <tr>\n",
       "      <th>246</th>\n",
       "      <td>nan</td>\n",
       "    </tr>\n",
       "    <tr>\n",
       "      <th>247</th>\n",
       "      <td>nan</td>\n",
       "    </tr>\n",
       "    <tr>\n",
       "      <th>...</th>\n",
       "      <td>...</td>\n",
       "    </tr>\n",
       "    <tr>\n",
       "      <th>7548</th>\n",
       "      <td>nan</td>\n",
       "    </tr>\n",
       "    <tr>\n",
       "      <th>7549</th>\n",
       "      <td>nan</td>\n",
       "    </tr>\n",
       "    <tr>\n",
       "      <th>7550</th>\n",
       "      <td>nan</td>\n",
       "    </tr>\n",
       "    <tr>\n",
       "      <th>7551</th>\n",
       "      <td>nan</td>\n",
       "    </tr>\n",
       "    <tr>\n",
       "      <th>7552</th>\n",
       "      <td>nan</td>\n",
       "    </tr>\n",
       "  </tbody>\n",
       "</table>\n",
       "<p>923 rows × 1 columns</p>\n",
       "</div>"
      ],
      "text/plain": [
       "     date\n",
       "243   nan\n",
       "244   nan\n",
       "245   nan\n",
       "246   nan\n",
       "247   nan\n",
       "...   ...\n",
       "7548  nan\n",
       "7549  nan\n",
       "7550  nan\n",
       "7551  nan\n",
       "7552  nan\n",
       "\n",
       "[923 rows x 1 columns]"
      ]
     },
     "metadata": {},
     "output_type": "display_data"
    },
    {
     "data": {
      "image/png": "[encoded data removed]",
      "text/plain": [
       "<Figure size 800x500 with 1 Axes>"
      ]
     },
     "metadata": {},
     "output_type": "display_data"
    }
   ],
   "source": [
    "# Define regex patterns for different date formats\n",
    "patterns = {\n",
    "    'YYYY-MM-DD': r'^\\d{4}-\\d{2}-\\d{2}$',  # ISO format\n",
    "    'MMM D, YYYY': r'^[A-Za-z]{3} \\d{1,2}, \\d{4}$',  # Short month name\n",
    "    'Month DD, YYYY': r'^[A-Za-z]+ \\d{1,2}, \\d{4}$',  # Full month name\n",
    "    'YYYY': r'^\\d{4}$',  # Year only\n",
    "    'Datetime Format': r'^\\d{4}-\\d{2}-\\d{2} \\d{2}:\\d{2}:\\d{2}$',  # Full timestamp\n",
    "    'NA or Empty': r'^(nan|NaT|NA)$'\n",
    "}\n",
    "\n",
    "# Function to classify date formats\n",
    "def classify_format(date):\n",
    "    for fmt, pattern in patterns.items():\n",
    "        if re.match(pattern, date):\n",
    "            return fmt\n",
    "    return \"Unknown Format\"  # If it doesn't match known formats\n",
    "\n",
    "# Apply classification\n",
    "df['date_format'] = df['date'].apply(classify_format)\n",
    "\n",
    "# Group the original dataset by date format\n",
    "grouped_dfs = {fmt: df[df['date_format'] == fmt] for fmt in df['date_format'].unique()}\n",
    "\n",
    "# Display each grouped DataFrame separately\n",
    "for fmt, group_df in grouped_dfs.items():\n",
    "    print(f\"\\nDate Format: {fmt}\")\n",
    "    display(group_df[['date']])  # Display only the date column\n",
    "\n",
    "# Count occurrences of each format\n",
    "format_counts = df['date_format'].value_counts().reset_index()\n",
    "format_counts.columns = ['Date Format', 'Count']\n",
    "\n",
    "# Visualize the results\n",
    "plt.figure(figsize=(8, 5))\n",
    "plt.bar(format_counts['Date Format'], format_counts['Count'], color='skyblue')\n",
    "plt.xlabel('Date Format')\n",
    "plt.ylabel('Count')\n",
    "plt.title('Distribution of Date Formats')\n",
    "plt.xticks(rotation=45)  # Rotate labels for readability\n",
    "\n",
    "\n",
    "# Add count labels on top of bars\n",
    "for index, value in enumerate(format_counts['Count']):\n",
    "    plt.text(index, value + 1, str(value), ha='center', fontsize=10)\n",
    "    \n",
    "plt.show()\n"
   ]
  },
  {
   "cell_type": "markdown",
   "metadata": {},
   "source": [
    "We can see that most of these follow the YYYY-MM-DD Format. We will fix the other format, and go back and individually input all of the NAs."
   ]
  },
  {
   "cell_type": "code",
   "execution_count": 17,
   "metadata": {},
   "outputs": [
    {
     "name": "stdout",
     "output_type": "stream",
     "text": [
      "                                                                                     url  \\\n",
      "0             https://www.fool.com/investing/2022/01/10/why-nvidia-stock-soared-in-2021/   \n",
      "1             https://www.fool.com/investing/2022/01/10/why-nvidia-stock-soared-in-2021/   \n",
      "2             https://www.fool.com/investing/2022/01/10/why-nvidia-stock-soared-in-2021/   \n",
      "3             https://www.fool.com/investing/2022/01/10/why-nvidia-stock-soared-in-2021/   \n",
      "4             https://www.fool.com/investing/2022/01/10/why-nvidia-stock-soared-in-2021/   \n",
      "...                                                                                  ...   \n",
      "15902  https://www.fool.com/investing/2025/02/16/where-will-nvidia-stock-be-in-10-years/   \n",
      "15903  https://www.fool.com/investing/2025/02/16/where-will-nvidia-stock-be-in-10-years/   \n",
      "15904  https://www.fool.com/investing/2025/02/16/where-will-nvidia-stock-be-in-10-years/   \n",
      "15905  https://www.fool.com/investing/2025/02/16/where-will-nvidia-stock-be-in-10-years/   \n",
      "15906  https://www.fool.com/investing/2025/02/16/where-will-nvidia-stock-be-in-10-years/   \n",
      "\n",
      "             date  \\\n",
      "0      2022-01-10   \n",
      "1      2022-01-10   \n",
      "2      2022-01-10   \n",
      "3      2022-01-10   \n",
      "4      2022-01-10   \n",
      "...           ...   \n",
      "15902  2025-02-16   \n",
      "15903  2025-02-16   \n",
      "15904  2025-02-16   \n",
      "15905  2025-02-16   \n",
      "15906  2025-02-16   \n",
      "\n",
      "                                                                                                                                                                                                                                                                                                                                                                                                                                                                                                                                                                                  case_text  \\\n",
      "0                                                                                                                   Founded in 1993, The Motley Fool is a financial services company dedicated to making the world smarter, happier, and richer. The Motley Fool reaches millions of people every month through our premium investing solutions, free guidance and market analysis on Fool.com, top-rated podcasts, and non-profit The Motley Fool Foundation. Founded in 1993, The Motley Fool is a financial services company dedicated to making the world smarter, happier, and richer.   \n",
      "1                                                                                                                                                                                                                    The Motley Fool reaches millions of people every month through our premium investing solutions, free guidance and market analysis on Fool.com, personal finance education, top-rated podcasts, and non-profit The Motley Fool Foundation. Founded in 1993, The Motley Fool is a financial services company dedicated to making the world smarter, happier, and richer.   \n",
      "2      The Motley Fool reaches millions of people every month through our premium investing solutions, free guidance and market analysis on Fool.com, top-rated podcasts, and non-profit The Motley Fool Foundation. Founded in 1993, The Motley Fool is a financial services company dedicated to making the world smarter, happier, and richer. The Motley Fool reaches millions of people every month through our premium investing solutions, free guidance and market analysis on Fool.com, personal finance education, top-rated podcasts, and non-profit The Motley Fool Foundation.   \n",
      "3                                                                                                                                                                                                                                                                                                You're reading a free article with opinions that may differ\\r\\n       from The Motley Fool's Premium Investing Services. Become a Motley Fool member today to\\r\\n       get instant access to our top analyst recommendations, in-depth research, investing resources,\\r\\n       and more.   \n",
      "4                                                                                                                                                                                                                                 Learn More\\r\\n Key Points A late-year surge in Nvidia shares came as investors and analysts recognized a new catalyst ahead. 2021 was a big, and transitional, year for specialty semiconductor chip company Nvidia (NVDA -0.96%). The company mostly known for gaming and graphics cards evolved over the course of the year, and investors took notice.   \n",
      "...                                                                                                                                                                                                                                                                                                                                                                                                                                                                                                                                                                                     ...   \n",
      "15902                                                                                                                                                                                                                                                                                                                                                                                                                                                                                                                                              The Motley Fool has a disclosure policy.   \n",
      "15903                                                                                                                                                                                                                                                                                                                                                                                                                                                                                                                      Related Articles \\r\\n        Invest better with The Motley Fool.   \n",
      "15904                                                                                                                                                                                                                                                                                                                                                                                                        Get stock recommendations, portfolio guidance, and more from The Motley Fool's premium services. Making the world smarter, happier, and richer. © 1995 - 2025 The Motley Fool.   \n",
      "15905                                                                                                                                                                                                                                                                                                                                                                                                                                                                                                                   All rights reserved. Market data powered by Xignite and Polygon.io.   \n",
      "15906                                                                                                                                                                                                                                                                                                                                                                                                                                                                                                   About The Motley Fool Our Services Around the Globe Free Tools Affiliates & Friends   \n",
      "\n",
      "          label     score  score_positive  score_neutral  score_negative  \\\n",
      "0       neutral  0.919492        0.065100       0.919492        0.015408   \n",
      "1       neutral  0.855451        0.134116       0.855451        0.010433   \n",
      "2       neutral  0.873373        0.115334       0.873373        0.011292   \n",
      "3       neutral  0.844963        0.144721       0.844963        0.010316   \n",
      "4      positive  0.938613        0.938613       0.041304        0.020083   \n",
      "...         ...       ...             ...            ...             ...   \n",
      "15902   neutral  0.863990        0.027250       0.863990        0.108760   \n",
      "15903   neutral  0.752844        0.230537       0.752844        0.016619   \n",
      "15904   neutral  0.895971        0.089839       0.895971        0.014190   \n",
      "15905   neutral  0.955805        0.024591       0.955805        0.019604   \n",
      "15906   neutral  0.928354        0.034456       0.928354        0.037190   \n",
      "\n",
      "       numeric_label     date_format  \n",
      "0                  0  Unknown Format  \n",
      "1                  0  Unknown Format  \n",
      "2                  0  Unknown Format  \n",
      "3                  0  Unknown Format  \n",
      "4                  1  Unknown Format  \n",
      "...              ...             ...  \n",
      "15902              0  Unknown Format  \n",
      "15903              0  Unknown Format  \n",
      "15904              0  Unknown Format  \n",
      "15905              0  Unknown Format  \n",
      "15906              0  Unknown Format  \n",
      "\n",
      "[15907 rows x 10 columns]\n",
      "object\n"
     ]
    }
   ],
   "source": [
    "df[\"date\"] = pd.to_datetime(\n",
    "    df[\"date\"],\n",
    "    format=\"%Y-%m-%dT%H:%M:%S%z\",  # or \"%Y-%m-%dT%H:%M:%S.%f%z\" if microseconds exist\n",
    "    utc=True,                      # normalize to UTC\n",
    "    errors=\"raise\"                 # raise errors if parsing fails\n",
    ")\n",
    "\n",
    "df[\"date\"] = df[\"date\"].dt.strftime(\"%Y-%m-%d\")\n",
    "print(df)\n",
    "print(df[\"date\"].dtype)\n"
   ]
  },
  {
   "cell_type": "markdown",
   "metadata": {},
   "source": [
    "Taking care of NA dates, we have to look to see if the url has the date posted within it. We will view the following:"
   ]
  },
  {
   "cell_type": "code",
   "execution_count": 18,
   "metadata": {},
   "outputs": [
    {
     "name": "stdout",
     "output_type": "stream",
     "text": [
      "Unique URLs: 33\n"
     ]
    }
   ],
   "source": [
    "# Filter rows where the date_format is 'NA or Empty'\n",
    "nan_dates_df = df[df['date_format'] == 'NA or Empty']\n",
    "\n",
    "# Sort the filtered DataFrame by the 'url' column\n",
    "nan_dates_df = nan_dates_df.sort_values(by='url')\n",
    "\n",
    "unique_urls = nan_dates_df['url'].nunique()\n",
    "print(\"Unique URLs:\", unique_urls)\n"
   ]
  },
  {
   "cell_type": "markdown",
   "metadata": {},
   "source": [
    "We only have 21 URLS that produced NaN results. We can manually find these dates. First, we will get a full print of every single one of these URLS."
   ]
  },
  {
   "cell_type": "code",
   "execution_count": 19,
   "metadata": {},
   "outputs": [
    {
     "name": "stdout",
     "output_type": "stream",
     "text": [
      "1. https://discussion.fool.com/c/investment-analysis-clubs/8?page=1\n",
      "2. https://www.fool.com/author/1301/\n",
      "3. https://www.fool.com/author/20509/\n",
      "4. https://www.fool.com/author/7018/\n",
      "5. https://www.fool.com/investing/how-to-invest/famous-investors/elon-musk-investments/\n",
      "6. https://www.fool.com/investing/stock-market/indexes/sp-500/\n",
      "7. https://www.fool.com/investing/stock-market/market-sectors/communication/5g-stocks/\n",
      "8. https://www.fool.com/investing/stock-market/market-sectors/energy/pipeline-stocks/\n",
      "9. https://www.fool.com/investing/stock-market/market-sectors/healthcare/genomics-stocks/gene-editing-stocks/\n",
      "10. https://www.fool.com/investing/stock-market/market-sectors/industrials/\n",
      "11. https://www.fool.com/investing/stock-market/market-sectors/information-technology/advertising-tech/\n",
      "12. https://www.fool.com/investing/stock-market/market-sectors/information-technology/cybersecurity-stocks/\n",
      "13. https://www.fool.com/investing/stock-market/market-sectors/information-technology/semiconductor-stocks/microchip-stocks/\n",
      "14. https://www.fool.com/investing/stock-market/market-sectors/materials/\n",
      "15. https://www.fool.com/legal/fool-disclosure/options/\n",
      "16. https://www.fool.com/quote/fra/ifx/\n",
      "17. https://www.fool.com/quote/fra/mvl/\n",
      "18. https://www.fool.com/quote/fra/nvd/\n",
      "19. https://www.fool.com/quote/nasdaq/aldx/\n",
      "20. https://www.fool.com/quote/nasdaq/areb/\n",
      "21. https://www.fool.com/quote/nasdaq/iren/\n",
      "22. https://www.fool.com/quote/nasdaq/megl/\n",
      "23. https://www.fool.com/quote/nasdaq/mksi/\n",
      "24. https://www.fool.com/quote/nasdaq/nvmi/\n",
      "25. https://www.fool.com/quote/nasdaq/pbts/\n",
      "26. https://www.fool.com/quote/nasdaq/poww/\n",
      "27. https://www.fool.com/quote/nasdaq/reit/\n",
      "28. https://www.fool.com/quote/nyse/abbv/\n",
      "29. https://www.fool.com/quote/nyse/smwb/\n",
      "30. https://www.fool.com/research/are-stock-splits-good/\n",
      "31. https://www.fool.com/research/largest-companies-by-market-cap/\n",
      "32. https://www.fool.com/slideshow/13-signs-youre-ready-to-invest-in-the-stock-market/\n",
      "33. https://www.fool.com/terms/s/stock-split/\n"
     ]
    }
   ],
   "source": [
    "# Ensure Pandas doesn't truncate long strings\n",
    "pd.set_option('display.max_colwidth', None)\n",
    "\n",
    "# Extract unique URLs from the 'url' column and reset the index\n",
    "unique_urls = nan_dates_df['url'].drop_duplicates().dropna().reset_index(drop=True)\n",
    "\n",
    "# Print each URL with a numbered label\n",
    "for i, url in enumerate(unique_urls, start=1):\n",
    "    print(f\"{i}. {url}\")\n"
   ]
  },
  {
   "cell_type": "markdown",
   "metadata": {},
   "source": [
    "**I went into these websites manually to find the dates: **\n",
    "\n",
    "1. https://discussion.fool.com/c/investment-analysis-clubs/8?page=1 - 2025-02-20\n",
    "2. https://www.fool.com/author/1301/ - Drop\n",
    "3. https://www.fool.com/author/20509/ - Drop\n",
    "4. https://www.fool.com/author/7018/ - Drop\n",
    "5. https://www.fool.com/investing/how-to-invest/famous-investors/elon-musk-investments/ - 2024-05-16\n",
    "6. https://www.fool.com/investing/stock-market/indexes/sp-500/ - 2025-02-12\n",
    "7. https://www.fool.com/investing/stock-market/market-sectors/communication/5g-stocks/ - 2025-01-10\n",
    "8. https://www.fool.com/investing/stock-market/market-sectors/energy/pipeline-stocks/ - 2024-09-13\n",
    "9. https://www.fool.com/investing/stock-market/market-sectors/healthcare/genomics-stocks/gene-editing-stocks/ - 2023-07-03\n",
    "10. https://www.fool.com/investing/stock-market/market-sectors/industrials/ - 2024-04-04\n",
    "11. https://www.fool.com/investing/stock-market/market-sectors/information-technology/advertising-tech/ - 2024-08-21\n",
    "12. https://www.fool.com/investing/stock-market/market-sectors/information-technology/cybersecurity-stocks/ - 2025-02-17\n",
    "13. https://www.fool.com/investing/stock-market/market-sectors/information-technology/semiconductor-stocks/microchip-stocks/ - 2024-04-04\n",
    "14. https://www.fool.com/investing/stock-market/market-sectors/materials/ - 2024-09-12\n",
    "15. https://www.fool.com/legal/fool-disclosure/options/ - 2025-02-14\n",
    "16. https://www.fool.com/quote/fra/ifx/ - 2025-02-20\n",
    "17. https://www.fool.com/quote/fra/mvl/ - 2025-02-20\n",
    "18. https://www.fool.com/quote/fra/nvd/ - 2025-02-20\n",
    "19. https://www.fool.com/quote/nasdaq/aldx/ - 2025-02-20\n",
    "20. https://www.fool.com/quote/nasdaq/areb/ - 2025-02-20\n",
    "21. https://www.fool.com/quote/nasdaq/iren/ - 2025-02-20\n",
    "22. https://www.fool.com/quote/nasdaq/megl/ - 2025-02-20\n",
    "23. https://www.fool.com/quote/nasdaq/mksi/ - 2025-02-20\n",
    "24. https://www.fool.com/quote/nasdaq/nvmi/ - 2025-02-20\n",
    "25. https://www.fool.com/quote/nasdaq/pbts/ - 2025-02-20\n",
    "26. https://www.fool.com/quote/nasdaq/poww/ - 2025-02-20\n",
    "27. https://www.fool.com/quote/nasdaq/reit/ - 2025-02-20\n",
    "28. https://www.fool.com/quote/nyse/abbv/ - 2025-02-20\n",
    "29. https://www.fool.com/quote/nyse/smwb/ - 2025-02-20\n",
    "30. https://www.fool.com/research/are-stock-splits-good/ - 2022-11-01\n",
    "31. https://www.fool.com/research/largest-companies-by-market-cap/ 2025-02-03\n",
    "32. https://www.fool.com/slideshow/13-signs-youre-ready-to-invest-in-the-stock-market/ - 2022-10-25\n",
    "33. https://www.fool.com/terms/s/stock-split/ - 2024-10-23"
   ]
  },
  {
   "cell_type": "code",
   "execution_count": 20,
   "metadata": {},
   "outputs": [
    {
     "name": "stdout",
     "output_type": "stream",
     "text": [
      "DataFrame now has 15860 rows.\n",
      "                                                                          url  \\\n",
      "0  https://www.fool.com/investing/2022/01/10/why-nvidia-stock-soared-in-2021/   \n",
      "1  https://www.fool.com/investing/2022/01/10/why-nvidia-stock-soared-in-2021/   \n",
      "2  https://www.fool.com/investing/2022/01/10/why-nvidia-stock-soared-in-2021/   \n",
      "3  https://www.fool.com/investing/2022/01/10/why-nvidia-stock-soared-in-2021/   \n",
      "4  https://www.fool.com/investing/2022/01/10/why-nvidia-stock-soared-in-2021/   \n",
      "\n",
      "         date  \\\n",
      "0  2022-01-10   \n",
      "1  2022-01-10   \n",
      "2  2022-01-10   \n",
      "3  2022-01-10   \n",
      "4  2022-01-10   \n",
      "\n",
      "                                                                                                                                                                                                                                                                                                                                                                                                                                                                                                                                                                              case_text  \\\n",
      "0                                                                                                               Founded in 1993, The Motley Fool is a financial services company dedicated to making the world smarter, happier, and richer. The Motley Fool reaches millions of people every month through our premium investing solutions, free guidance and market analysis on Fool.com, top-rated podcasts, and non-profit The Motley Fool Foundation. Founded in 1993, The Motley Fool is a financial services company dedicated to making the world smarter, happier, and richer.   \n",
      "1                                                                                                                                                                                                                The Motley Fool reaches millions of people every month through our premium investing solutions, free guidance and market analysis on Fool.com, personal finance education, top-rated podcasts, and non-profit The Motley Fool Foundation. Founded in 1993, The Motley Fool is a financial services company dedicated to making the world smarter, happier, and richer.   \n",
      "2  The Motley Fool reaches millions of people every month through our premium investing solutions, free guidance and market analysis on Fool.com, top-rated podcasts, and non-profit The Motley Fool Foundation. Founded in 1993, The Motley Fool is a financial services company dedicated to making the world smarter, happier, and richer. The Motley Fool reaches millions of people every month through our premium investing solutions, free guidance and market analysis on Fool.com, personal finance education, top-rated podcasts, and non-profit The Motley Fool Foundation.   \n",
      "3                                                                                                                                                                                                                                                                                            You're reading a free article with opinions that may differ\\r\\n       from The Motley Fool's Premium Investing Services. Become a Motley Fool member today to\\r\\n       get instant access to our top analyst recommendations, in-depth research, investing resources,\\r\\n       and more.   \n",
      "4                                                                                                                                                                                                                             Learn More\\r\\n Key Points A late-year surge in Nvidia shares came as investors and analysts recognized a new catalyst ahead. 2021 was a big, and transitional, year for specialty semiconductor chip company Nvidia (NVDA -0.96%). The company mostly known for gaming and graphics cards evolved over the course of the year, and investors took notice.   \n",
      "\n",
      "      label     score  score_positive  score_neutral  score_negative  \\\n",
      "0   neutral  0.919492        0.065100       0.919492        0.015408   \n",
      "1   neutral  0.855451        0.134116       0.855451        0.010433   \n",
      "2   neutral  0.873373        0.115334       0.873373        0.011292   \n",
      "3   neutral  0.844963        0.144721       0.844963        0.010316   \n",
      "4  positive  0.938613        0.938613       0.041304        0.020083   \n",
      "\n",
      "   numeric_label     date_format  \n",
      "0              0  Unknown Format  \n",
      "1              0  Unknown Format  \n",
      "2              0  Unknown Format  \n",
      "3              0  Unknown Format  \n",
      "4              1  Unknown Format  \n"
     ]
    }
   ],
   "source": [
    "# 1. Create a mapping of URL -> new date (or \"Drop\")\n",
    "url_updates = {\n",
    "    \"https://discussion.fool.com/c/investment-analysis-clubs/8?page=1\": \"2025-02-20\",\n",
    "    \"https://www.fool.com/author/1301/\": \"Drop\",\n",
    "    \"https://www.fool.com/author/20509/\": \"Drop\",\n",
    "    \"https://www.fool.com/author/7018/\": \"Drop\",\n",
    "    \"https://www.fool.com/investing/how-to-invest/famous-investors/elon-musk-investments/\": \"2024-05-16\",\n",
    "    \"https://www.fool.com/investing/stock-market/indexes/sp-500/\": \"2025-02-12\",\n",
    "    \"https://www.fool.com/investing/stock-market/market-sectors/communication/5g-stocks/\": \"2025-01-10\",\n",
    "    \"https://www.fool.com/investing/stock-market/market-sectors/energy/pipeline-stocks/\": \"2024-09-13\",\n",
    "    \"https://www.fool.com/investing/stock-market/market-sectors/healthcare/genomics-stocks/gene-editing-stocks/\": \"2023-07-03\",\n",
    "    \"https://www.fool.com/investing/stock-market/market-sectors/industrials/\": \"2024-04-04\",\n",
    "    \"https://www.fool.com/investing/stock-market/market-sectors/information-technology/advertising-tech/\": \"2024-08-21\",\n",
    "    \"https://www.fool.com/investing/stock-market/market-sectors/information-technology/cybersecurity-stocks/\": \"2025-02-17\",\n",
    "    \"https://www.fool.com/investing/stock-market/market-sectors/information-technology/semiconductor-stocks/microchip-stocks/\": \"2024-04-04\",\n",
    "    \"https://www.fool.com/investing/stock-market/market-sectors/materials/\": \"2024-09-12\",\n",
    "    \"https://www.fool.com/legal/fool-disclosure/options/\": \"2025-02-14\",\n",
    "    \"https://www.fool.com/quote/fra/ifx/\": \"2025-02-20\",\n",
    "    \"https://www.fool.com/quote/fra/mvl/\": \"2025-02-20\",\n",
    "    \"https://www.fool.com/quote/fra/nvd/\": \"2025-02-20\",\n",
    "    \"https://www.fool.com/quote/nasdaq/aldx/\": \"2025-02-20\",\n",
    "    \"https://www.fool.com/quote/nasdaq/areb/\": \"2025-02-20\",\n",
    "    \"https://www.fool.com/quote/nasdaq/iren/\": \"2025-02-20\",\n",
    "    \"https://www.fool.com/quote/nasdaq/megl/\": \"2025-02-20\",\n",
    "    \"https://www.fool.com/quote/nasdaq/mksi/\": \"2025-02-20\",\n",
    "    \"https://www.fool.com/quote/nasdaq/nvmi/\": \"2025-02-20\",\n",
    "    \"https://www.fool.com/quote/nasdaq/pbts/\": \"2025-02-20\",\n",
    "    \"https://www.fool.com/quote/nasdaq/poww/\": \"2025-02-20\",\n",
    "    \"https://www.fool.com/quote/nasdaq/reit/\": \"2025-02-20\",\n",
    "    \"https://www.fool.com/quote/nyse/abbv/\": \"2025-02-20\",\n",
    "    \"https://www.fool.com/quote/nyse/smwb/\": \"2025-02-20\",\n",
    "    \"https://www.fool.com/research/are-stock-splits-good/\": \"2022-11-01\",\n",
    "    \"https://www.fool.com/research/largest-companies-by-market-cap/\": \"2025-02-03\",\n",
    "    \"https://www.fool.com/slideshow/13-signs-youre-ready-to-invest-in-the-stock-market/\": \"2022-10-25\",\n",
    "    \"https://www.fool.com/terms/s/stock-split/\": \"2024-10-23\"\n",
    "}\n",
    "\n",
    "# 2. Loop over each URL in the mapping\n",
    "for url, date_val in url_updates.items():\n",
    "    if date_val == \"Drop\":\n",
    "        # Remove rows matching this URL\n",
    "        df = df[df['url'] != url]\n",
    "    else:\n",
    "        # Update the date for rows matching this URL\n",
    "        df.loc[df['url'] == url, 'date'] = date_val\n",
    "\n",
    "# 3. (Optional) Check how many rows remain and preview\n",
    "print(f\"DataFrame now has {len(df)} rows.\")\n",
    "print(df.head())\n"
   ]
  },
  {
   "cell_type": "markdown",
   "metadata": {},
   "source": [
    "1 Final check to ensure all the dates are formatted correctly:"
   ]
  },
  {
   "cell_type": "code",
   "execution_count": 21,
   "metadata": {},
   "outputs": [
    {
     "name": "stdout",
     "output_type": "stream",
     "text": [
      "  Date Format  Count\n",
      "0  YYYY-MM-DD  15860\n"
     ]
    }
   ],
   "source": [
    "# 3. Apply classification to the 'date' column\n",
    "df['date_format'] = df['date'].astype(str).apply(classify_format)\n",
    "\n",
    "# 4. Count occurrences of each format\n",
    "format_counts = df['date_format'].value_counts().reset_index()\n",
    "format_counts.columns = ['Date Format', 'Count']\n",
    "\n",
    "# 5. Display the results\n",
    "print(format_counts)"
   ]
  },
  {
   "cell_type": "markdown",
   "metadata": {},
   "source": [
    "## **Class Imbalances**\n",
    "---\n",
    "The following are to address class imbalances for the forbes pulled data:\n"
   ]
  },
  {
   "cell_type": "code",
   "execution_count": 22,
   "metadata": {},
   "outputs": [
    {
     "data": {
      "image/png": "[encoded data removed]",
      "text/plain": [
       "<Figure size 800x500 with 1 Axes>"
      ]
     },
     "metadata": {},
     "output_type": "display_data"
    }
   ],
   "source": [
    "# Count occurrences of each category\n",
    "category_counts = df['numeric_label'].value_counts()\n",
    "\n",
    "# Plot histogram\n",
    "plt.figure(figsize=(8,5))\n",
    "bars = plt.bar(category_counts.index, category_counts.values, color='skyblue')\n",
    "plt.xlabel('Category')\n",
    "plt.ylabel('Count')\n",
    "plt.title('Histogram of Categorical Variable')\n",
    "\n",
    "# Add numeric labels on top of each bar\n",
    "for bar in bars:\n",
    "    height = bar.get_height()\n",
    "    plt.text(bar.get_x() + bar.get_width() / 2, height + 0.5, f'{int(height)}', \n",
    "             ha='center', va='bottom', fontsize=10)\n",
    "\n",
    "plt.show()\n"
   ]
  },
  {
   "cell_type": "markdown",
   "metadata": {},
   "source": [
    "### Hotfix: Undersampling"
   ]
  },
  {
   "cell_type": "markdown",
   "metadata": {},
   "source": [
    "We will be saving 2 seperate files therefore: an under-sampled file that contains equal parts of sentiment for all data (for immediate training), and the full, cleaned dataset, which we will prune later."
   ]
  },
  {
   "cell_type": "code",
   "execution_count": 23,
   "metadata": {},
   "outputs": [
    {
     "data": {
      "image/png": "[encoded data removed]",
      "text/plain": [
       "<Figure size 800x500 with 1 Axes>"
      ]
     },
     "metadata": {},
     "output_type": "display_data"
    }
   ],
   "source": [
    "\n",
    "\n",
    "# 2. Undersample to balance classes\n",
    "#    Let's assume your classes are in the column 'numeric_label'\n",
    "class_counts = df['numeric_label'].value_counts()\n",
    "min_count = class_counts.min()\n",
    "\n",
    "# For each class, sample 'min_count' rows\n",
    "balanced_dfs = []\n",
    "for sentiment_value in class_counts.index:\n",
    "    class_df = df[df['numeric_label'] == sentiment_value]\n",
    "    class_df_undersampled = class_df.sample(n=min_count, random_state=42)\n",
    "    balanced_dfs.append(class_df_undersampled)\n",
    "\n",
    "# Combine them into a balanced DataFrame\n",
    "df_undersampled = pd.concat(balanced_dfs).sample(frac=1, random_state=42).reset_index(drop=True)\n",
    "\n",
    "\n",
    "category_counts = df_undersampled['numeric_label'].value_counts()\n",
    "\n",
    "# Plot histogram\n",
    "plt.figure(figsize=(8,5))\n",
    "bars = plt.bar(category_counts.index, category_counts.values, color='skyblue')\n",
    "plt.xlabel('Category')\n",
    "plt.ylabel('Count')\n",
    "plt.title('Histogram of Categorical Variable')\n",
    "\n",
    "# Add numeric labels on top of each bar\n",
    "for bar in bars:\n",
    "    height = bar.get_height()\n",
    "    plt.text(bar.get_x() + bar.get_width() / 2, height + 0.5, f'{int(height)}', \n",
    "             ha='center', va='bottom', fontsize=10)\n",
    "\n",
    "plt.show()\n",
    "\n"
   ]
  },
  {
   "cell_type": "code",
   "execution_count": null,
   "metadata": {},
   "outputs": [
    {
     "name": "stdout",
     "output_type": "stream",
     "text": [
      "Files saved:\n",
      "- Scrutinize/nvda_sentence_sentiment_dataset_forbes_cleaned.csv (full dataset)\n",
      "- sentiment_data.csv (undersampled, balanced dataset)\n"
     ]
    }
   ],
   "source": [
    "df.drop(columns=[\"date_format\"], inplace=True)\n",
    "df_undersampled.drop(columns=[\"date_format\"], inplace=True)\n",
    "\n",
    "df_undersampled.to_csv(\"sentiment_data_motley.csv\", index=False)\n",
    "df.to_csv(\"Scrutinize/nvda_sentence_sentiment_dataset_motley_cleaned.csv\", index=False)\n",
    "print(\"Files saved:\\n- Scrutinize/nvda_sentence_sentiment_dataset_forbes_cleaned.csv (full dataset)\\n- sentiment_data.csv (undersampled, balanced dataset)\")\n"
   ]
  },
  {
   "cell_type": "markdown",
   "metadata": {},
   "source": [
    "# **Future Work:**\n",
    "---\n",
    "I will come back to the cleaned dataset and manually classify sentiment with a friend of mine in finance. We will then use this dataset to train sentiment instead of pre-trained Fin-BERT sentiments. This will take a while, and as we expand to more financial information, we will need to look into alternative methods."
   ]
  },
  {
   "cell_type": "markdown",
   "metadata": {},
   "source": [
    "### Current Help Needed:\n",
    "---\n",
    "If you can Work on \n",
    " - data augmentation via synonym translation, back translating, and/or creating textual embeddings with the -1 and +1 samples of this dataset\n",
    " - Using SMOTE to create new data for -1 samples and +1 samples\n",
    "\n",
    "That will be greatly appreciated.\n"
   ]
  }
 ],
 "metadata": {
  "kernelspec": {
   "display_name": "Python 3",
   "language": "python",
   "name": "python3"
  },
  "language_info": {
   "codemirror_mode": {
    "name": "ipython",
    "version": 3
   },
   "file_extension": ".py",
   "mimetype": "text/x-python",
   "name": "python",
   "nbconvert_exporter": "python",
   "pygments_lexer": "ipython3",
   "version": "3.11.9"
  }
 },
 "nbformat": 4,
 "nbformat_minor": 2
}
