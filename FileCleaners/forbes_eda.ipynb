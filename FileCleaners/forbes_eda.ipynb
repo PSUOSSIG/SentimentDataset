{
 "cells": [
  {
   "cell_type": "markdown",
   "metadata": {},
   "source": [
    "# **Initial Information**\n",
    "---\n",
    "The following dataset uses 132 URLs and obtains information pertaining to NVDA's stock, utilizing Google Search engine for our API Search. The following data's sentiments for every sentence has yet to be evaluated, and was pre-assigned sentiments based on Fin-BERT, a transformer-based sentiment classifier.\n"
   ]
  },
  {
   "cell_type": "markdown",
   "metadata": {},
   "source": [
    "# **Forbes DataSet Cleanup**\n",
    "---\n",
    "The following is used to clean the forbes CSV file, and will be used as a blueprint for new data."
   ]
  },
  {
   "cell_type": "code",
   "execution_count": 5,
   "metadata": {},
   "outputs": [
    {
     "data": {
      "text/html": [
       "<div>\n",
       "<style scoped>\n",
       "    .dataframe tbody tr th:only-of-type {\n",
       "        vertical-align: middle;\n",
       "    }\n",
       "\n",
       "    .dataframe tbody tr th {\n",
       "        vertical-align: top;\n",
       "    }\n",
       "\n",
       "    .dataframe thead th {\n",
       "        text-align: right;\n",
       "    }\n",
       "</style>\n",
       "<table border=\"1\" class=\"dataframe\">\n",
       "  <thead>\n",
       "    <tr style=\"text-align: right;\">\n",
       "      <th></th>\n",
       "      <th>url</th>\n",
       "      <th>date</th>\n",
       "      <th>case_text</th>\n",
       "      <th>label</th>\n",
       "      <th>score</th>\n",
       "      <th>numeric_label</th>\n",
       "      <th>positive_prob</th>\n",
       "      <th>neutral_prob</th>\n",
       "      <th>negative_prob</th>\n",
       "    </tr>\n",
       "  </thead>\n",
       "  <tbody>\n",
       "    <tr>\n",
       "      <th>0</th>\n",
       "      <td>https://www.forbes.com/sites/karlfreund/2022/0...</td>\n",
       "      <td>2022-01-25</td>\n",
       "      <td>Facebook, I mean Meta, has always been one of ...</td>\n",
       "      <td>neutral</td>\n",
       "      <td>0.858650</td>\n",
       "      <td>0</td>\n",
       "      <td>0.129524</td>\n",
       "      <td>0.858650</td>\n",
       "      <td>0.011826</td>\n",
       "    </tr>\n",
       "    <tr>\n",
       "      <th>1</th>\n",
       "      <td>https://www.forbes.com/sites/karlfreund/2022/0...</td>\n",
       "      <td>2022-01-25</td>\n",
       "      <td>The company processes hundreds of trillions (y...</td>\n",
       "      <td>neutral</td>\n",
       "      <td>0.834046</td>\n",
       "      <td>0</td>\n",
       "      <td>0.127219</td>\n",
       "      <td>0.834046</td>\n",
       "      <td>0.038735</td>\n",
       "    </tr>\n",
       "    <tr>\n",
       "      <th>2</th>\n",
       "      <td>https://www.forbes.com/sites/karlfreund/2022/0...</td>\n",
       "      <td>2022-01-25</td>\n",
       "      <td>But now we know that the company appears to st...</td>\n",
       "      <td>neutral</td>\n",
       "      <td>0.732659</td>\n",
       "      <td>0</td>\n",
       "      <td>0.258544</td>\n",
       "      <td>0.732659</td>\n",
       "      <td>0.008796</td>\n",
       "    </tr>\n",
       "    <tr>\n",
       "      <th>3</th>\n",
       "      <td>https://www.forbes.com/sites/karlfreund/2022/0...</td>\n",
       "      <td>2022-01-25</td>\n",
       "      <td>already has 760 DGX servers with 6,080 A100 GP...</td>\n",
       "      <td>neutral</td>\n",
       "      <td>0.795412</td>\n",
       "      <td>0</td>\n",
       "      <td>0.196703</td>\n",
       "      <td>0.795412</td>\n",
       "      <td>0.007885</td>\n",
       "    </tr>\n",
       "    <tr>\n",
       "      <th>4</th>\n",
       "      <td>https://www.forbes.com/sites/karlfreund/2022/0...</td>\n",
       "      <td>2022-01-25</td>\n",
       "      <td>The plan is to build that up to 16,000 GPU’s b...</td>\n",
       "      <td>neutral</td>\n",
       "      <td>0.803963</td>\n",
       "      <td>0</td>\n",
       "      <td>0.187841</td>\n",
       "      <td>0.803963</td>\n",
       "      <td>0.008196</td>\n",
       "    </tr>\n",
       "  </tbody>\n",
       "</table>\n",
       "</div>"
      ],
      "text/plain": [
       "                                                 url        date  \\\n",
       "0  https://www.forbes.com/sites/karlfreund/2022/0...  2022-01-25   \n",
       "1  https://www.forbes.com/sites/karlfreund/2022/0...  2022-01-25   \n",
       "2  https://www.forbes.com/sites/karlfreund/2022/0...  2022-01-25   \n",
       "3  https://www.forbes.com/sites/karlfreund/2022/0...  2022-01-25   \n",
       "4  https://www.forbes.com/sites/karlfreund/2022/0...  2022-01-25   \n",
       "\n",
       "                                           case_text    label     score  \\\n",
       "0  Facebook, I mean Meta, has always been one of ...  neutral  0.858650   \n",
       "1  The company processes hundreds of trillions (y...  neutral  0.834046   \n",
       "2  But now we know that the company appears to st...  neutral  0.732659   \n",
       "3  already has 760 DGX servers with 6,080 A100 GP...  neutral  0.795412   \n",
       "4  The plan is to build that up to 16,000 GPU’s b...  neutral  0.803963   \n",
       "\n",
       "   numeric_label  positive_prob  neutral_prob  negative_prob  \n",
       "0              0       0.129524      0.858650       0.011826  \n",
       "1              0       0.127219      0.834046       0.038735  \n",
       "2              0       0.258544      0.732659       0.008796  \n",
       "3              0       0.196703      0.795412       0.007885  \n",
       "4              0       0.187841      0.803963       0.008196  "
      ]
     },
     "execution_count": 5,
     "metadata": {},
     "output_type": "execute_result"
    }
   ],
   "source": [
    "import pandas as pd\n",
    "import matplotlib.pyplot as plt\n",
    "import re\n",
    "\n",
    "df = pd.read_csv(\"Scrapersandrawfiles/nvda_sentence_sentiment_dataset_updated.csv\")\n",
    "df.head()"
   ]
  },
  {
   "cell_type": "markdown",
   "metadata": {},
   "source": [
    "Checking Unique URLS: (total successful scrapes out of 493)"
   ]
  },
  {
   "cell_type": "code",
   "execution_count": 7,
   "metadata": {},
   "outputs": [
    {
     "name": "stdout",
     "output_type": "stream",
     "text": [
      "Unique URLs: 132\n"
     ]
    }
   ],
   "source": [
    "unique_urls = df['url'].nunique()\n",
    "print(\"Unique URLs:\", unique_urls)"
   ]
  },
  {
   "cell_type": "markdown",
   "metadata": {},
   "source": [
    "Damn.\n",
    "\n"
   ]
  },
  {
   "cell_type": "markdown",
   "metadata": {},
   "source": [
    "## **Date Time Corrections**\n",
    "---\n",
    "I noticed discrepencies when loading in the correct data for dates. We will be exploring and correcting these."
   ]
  },
  {
   "cell_type": "code",
   "execution_count": 8,
   "metadata": {},
   "outputs": [
    {
     "name": "stdout",
     "output_type": "stream",
     "text": [
      "url               object\n",
      "date              object\n",
      "case_text         object\n",
      "label             object\n",
      "score            float64\n",
      "numeric_label      int64\n",
      "positive_prob    float64\n",
      "neutral_prob     float64\n",
      "negative_prob    float64\n",
      "dtype: object\n",
      "                                                 url        date  \\\n",
      "0  https://www.forbes.com/sites/karlfreund/2022/0...  2022-01-25   \n",
      "1  https://www.forbes.com/sites/karlfreund/2022/0...  2022-01-25   \n",
      "2  https://www.forbes.com/sites/karlfreund/2022/0...  2022-01-25   \n",
      "3  https://www.forbes.com/sites/karlfreund/2022/0...  2022-01-25   \n",
      "4  https://www.forbes.com/sites/karlfreund/2022/0...  2022-01-25   \n",
      "\n",
      "                                           case_text    label     score  \\\n",
      "0  Facebook, I mean Meta, has always been one of ...  neutral  0.858650   \n",
      "1  The company processes hundreds of trillions (y...  neutral  0.834046   \n",
      "2  But now we know that the company appears to st...  neutral  0.732659   \n",
      "3  already has 760 DGX servers with 6,080 A100 GP...  neutral  0.795412   \n",
      "4  The plan is to build that up to 16,000 GPU’s b...  neutral  0.803963   \n",
      "\n",
      "   numeric_label  positive_prob  neutral_prob  negative_prob  \n",
      "0              0       0.129524      0.858650       0.011826  \n",
      "1              0       0.127219      0.834046       0.038735  \n",
      "2              0       0.258544      0.732659       0.008796  \n",
      "3              0       0.196703      0.795412       0.007885  \n",
      "4              0       0.187841      0.803963       0.008196  \n",
      "3219\n"
     ]
    }
   ],
   "source": [
    "print(df.dtypes)\n",
    "df['date'] = df['date'].astype(str)\n",
    "print(df.head())\n",
    "print(df.shape[0])"
   ]
  },
  {
   "cell_type": "code",
   "execution_count": 9,
   "metadata": {},
   "outputs": [
    {
     "name": "stdout",
     "output_type": "stream",
     "text": [
      "\n",
      "Date Format: YYYY-MM-DD\n"
     ]
    },
    {
     "data": {
      "text/html": [
       "<div>\n",
       "<style scoped>\n",
       "    .dataframe tbody tr th:only-of-type {\n",
       "        vertical-align: middle;\n",
       "    }\n",
       "\n",
       "    .dataframe tbody tr th {\n",
       "        vertical-align: top;\n",
       "    }\n",
       "\n",
       "    .dataframe thead th {\n",
       "        text-align: right;\n",
       "    }\n",
       "</style>\n",
       "<table border=\"1\" class=\"dataframe\">\n",
       "  <thead>\n",
       "    <tr style=\"text-align: right;\">\n",
       "      <th></th>\n",
       "      <th>date</th>\n",
       "    </tr>\n",
       "  </thead>\n",
       "  <tbody>\n",
       "    <tr>\n",
       "      <th>0</th>\n",
       "      <td>2022-01-25</td>\n",
       "    </tr>\n",
       "    <tr>\n",
       "      <th>1</th>\n",
       "      <td>2022-01-25</td>\n",
       "    </tr>\n",
       "    <tr>\n",
       "      <th>2</th>\n",
       "      <td>2022-01-25</td>\n",
       "    </tr>\n",
       "    <tr>\n",
       "      <th>3</th>\n",
       "      <td>2022-01-25</td>\n",
       "    </tr>\n",
       "    <tr>\n",
       "      <th>4</th>\n",
       "      <td>2022-01-25</td>\n",
       "    </tr>\n",
       "    <tr>\n",
       "      <th>...</th>\n",
       "      <td>...</td>\n",
       "    </tr>\n",
       "    <tr>\n",
       "      <th>3214</th>\n",
       "      <td>2025-02-13</td>\n",
       "    </tr>\n",
       "    <tr>\n",
       "      <th>3215</th>\n",
       "      <td>2025-02-13</td>\n",
       "    </tr>\n",
       "    <tr>\n",
       "      <th>3216</th>\n",
       "      <td>2025-02-13</td>\n",
       "    </tr>\n",
       "    <tr>\n",
       "      <th>3217</th>\n",
       "      <td>2025-02-13</td>\n",
       "    </tr>\n",
       "    <tr>\n",
       "      <th>3218</th>\n",
       "      <td>2025-02-13</td>\n",
       "    </tr>\n",
       "  </tbody>\n",
       "</table>\n",
       "<p>3219 rows × 1 columns</p>\n",
       "</div>"
      ],
      "text/plain": [
       "            date\n",
       "0     2022-01-25\n",
       "1     2022-01-25\n",
       "2     2022-01-25\n",
       "3     2022-01-25\n",
       "4     2022-01-25\n",
       "...          ...\n",
       "3214  2025-02-13\n",
       "3215  2025-02-13\n",
       "3216  2025-02-13\n",
       "3217  2025-02-13\n",
       "3218  2025-02-13\n",
       "\n",
       "[3219 rows x 1 columns]"
      ]
     },
     "metadata": {},
     "output_type": "display_data"
    },
    {
     "data": {
      "image/png": "[encoded data removed]",
      "text/plain": [
       "<Figure size 800x500 with 1 Axes>"
      ]
     },
     "metadata": {},
     "output_type": "display_data"
    }
   ],
   "source": [
    "# Define regex patterns for different date formats\n",
    "patterns = {\n",
    "    'YYYY-MM-DD': r'^\\d{4}-\\d{2}-\\d{2}$',  # ISO format\n",
    "    'MMM D, YYYY': r'^[A-Za-z]{3} \\d{1,2}, \\d{4}$',  # Short month name\n",
    "    'Month DD, YYYY': r'^[A-Za-z]+ \\d{1,2}, \\d{4}$',  # Full month name\n",
    "    'YYYY': r'^\\d{4}$',  # Year only\n",
    "    'Datetime Format': r'^\\d{4}-\\d{2}-\\d{2} \\d{2}:\\d{2}:\\d{2}$',  # Full timestamp\n",
    "    'NA or Empty': r'^(nan|NaT|NA)$'\n",
    "}\n",
    "\n",
    "# Function to classify date formats\n",
    "def classify_format(date):\n",
    "    for fmt, pattern in patterns.items():\n",
    "        if re.match(pattern, date):\n",
    "            return fmt\n",
    "    return \"Unknown Format\"  # If it doesn't match known formats\n",
    "\n",
    "# Apply classification\n",
    "df['date_format'] = df['date'].apply(classify_format)\n",
    "\n",
    "# Group the original dataset by date format\n",
    "grouped_dfs = {fmt: df[df['date_format'] == fmt] for fmt in df['date_format'].unique()}\n",
    "\n",
    "# Display each grouped DataFrame separately\n",
    "for fmt, group_df in grouped_dfs.items():\n",
    "    print(f\"\\nDate Format: {fmt}\")\n",
    "    display(group_df[['date']])  # Display only the date column\n",
    "\n",
    "# Count occurrences of each format\n",
    "format_counts = df['date_format'].value_counts().reset_index()\n",
    "format_counts.columns = ['Date Format', 'Count']\n",
    "\n",
    "# Visualize the results\n",
    "plt.figure(figsize=(8, 5))\n",
    "plt.bar(format_counts['Date Format'], format_counts['Count'], color='skyblue')\n",
    "plt.xlabel('Date Format')\n",
    "plt.ylabel('Count')\n",
    "plt.title('Distribution of Date Formats')\n",
    "plt.xticks(rotation=45)  # Rotate labels for readability\n",
    "\n",
    "\n",
    "# Add count labels on top of bars\n",
    "for index, value in enumerate(format_counts['Count']):\n",
    "    plt.text(index, value + 1, str(value), ha='center', fontsize=10)\n",
    "    \n",
    "plt.show()\n"
   ]
  },
  {
   "cell_type": "markdown",
   "metadata": {},
   "source": [
    "We can see that most of these follow the YYYY-MM-DD Format. We will fix the other format, and go back and individually input all of the NAs."
   ]
  },
  {
   "cell_type": "code",
   "execution_count": 10,
   "metadata": {},
   "outputs": [
    {
     "name": "stdout",
     "output_type": "stream",
     "text": [
      "  Date Format  Count\n",
      "0  YYYY-MM-DD   3219\n"
     ]
    }
   ],
   "source": [
    "df['date'] = df['date'].str.strip().str.rstrip(',')\n",
    "\n",
    "# 2. Function to convert short-month format (e.g. \"Jun 10, 2022\") → \"YYYY-MM-DD\"\n",
    "def fix_short_month_date(date_str):\n",
    "    \"\"\"\n",
    "    Tries to parse strings like 'Jun 10, 2022' into YYYY-MM-DD.\n",
    "    If parsing fails, returns the original string.\n",
    "    \"\"\"\n",
    "    try:\n",
    "        # Use the format '%b %d, %Y' to parse \"Jun 10, 2022\"\n",
    "        parsed_date = pd.to_datetime(date_str, format='%b %d, %Y')\n",
    "        return parsed_date.strftime('%Y-%m-%d')\n",
    "    except (ValueError, TypeError):\n",
    "        # If it doesn't parse, keep the original\n",
    "        return date_str\n",
    "\n",
    "# 3. Apply to entire date column\n",
    "df['date'] = df['date'].apply(fix_short_month_date)\n",
    "\n",
    "# 2. Classification function\n",
    "def classify_format(date_str):\n",
    "    for fmt, pattern in patterns.items():\n",
    "        if re.match(pattern, date_str):\n",
    "            return fmt\n",
    "    return \"Unknown Format\"\n",
    "\n",
    "# 3. Apply classification to the 'date' column\n",
    "df['date_format'] = df['date'].astype(str).apply(classify_format)\n",
    "\n",
    "# 4. Count occurrences of each format\n",
    "format_counts = df['date_format'].value_counts().reset_index()\n",
    "format_counts.columns = ['Date Format', 'Count']\n",
    "\n",
    "# 5. Display the results\n",
    "print(format_counts)\n"
   ]
  },
  {
   "cell_type": "markdown",
   "metadata": {},
   "source": [
    "Taking care of NA dates, we have to look to see if the url has the date posted within it. We will view the following:"
   ]
  },
  {
   "cell_type": "code",
   "execution_count": 11,
   "metadata": {},
   "outputs": [
    {
     "name": "stdout",
     "output_type": "stream",
     "text": [
      "Unique URLs: 0\n"
     ]
    }
   ],
   "source": [
    "# Filter rows where the date_format is 'NA or Empty'\n",
    "nan_dates_df = df[df['date_format'] == 'NA or Empty']\n",
    "\n",
    "# Sort the filtered DataFrame by the 'url' column\n",
    "nan_dates_df = nan_dates_df.sort_values(by='url')\n",
    "\n",
    "unique_urls = nan_dates_df['url'].nunique()\n",
    "print(\"Unique URLs:\", unique_urls)\n"
   ]
  },
  {
   "cell_type": "markdown",
   "metadata": {},
   "source": [
    "We only have 21 URLS that produced NaN results. We can manually find these dates. First, we will get a full print of every single one of these URLS."
   ]
  },
  {
   "cell_type": "code",
   "execution_count": 7,
   "metadata": {},
   "outputs": [
    {
     "name": "stdout",
     "output_type": "stream",
     "text": [
      "1. https://councils.forbes.com/profile/Eli-David-Researcher-Lecturer/b5a70384-2c13-4600-bb28-25c8e1a22490\n",
      "2. https://www.forbes.com/companies/bank-of-ny-mellon/\n",
      "3. https://www.forbes.com/companies/bank-ozk/\n",
      "4. https://www.forbes.com/companies/chipper-cash/\n",
      "5. https://www.forbes.com/companies/dh-distributing/\n",
      "6. https://www.forbes.com/companies/giant-eagle/\n",
      "7. https://www.forbes.com/companies/jefferies-financial/\n",
      "8. https://www.forbes.com/companies/mcconnell-jones/\n",
      "9. https://www.forbes.com/companies/novo/\n",
      "10. https://www.forbes.com/companies/schindler-holding/\n",
      "11. https://www.forbes.com/companies/shenzhou-international-group-holdings/\n",
      "12. https://www.forbes.com/pictures/6272f1a9d280e0fda2bb66d0/claire-delaunay-vice-pres/\n",
      "13. https://www.forbes.com/pictures/6272f1a9d280e0fda2bb66d0/daniel-dines-confounder-a/\n",
      "14. https://www.forbes.com/profile/matthew-fleissig/\n",
      "15. https://www.forbes.com/sites/investor-hub/article/best-growth-stocks-for-next-5-years/\n",
      "16. https://www.forbes.com/sites/investor-hub/article/nvidia-earnings-what-to-know-stock-report-q1-2025/\n",
      "17. https://www.forbes.com/sites/investor-hub/article/nvidia-vs-amd-vs-intel-best-ai-stock-to-buy/\n",
      "18. https://www.forbes.com/sites/investor-hub/article/top-sectors-growth-stocks-next-decade/\n",
      "19. https://www.forbes.com/sites/investor-hub/article/where-will-nvidia-nvda-stock-be-5-years/\n",
      "20. https://www.forbes.com/video/6315575904112/walmart-heir-unseated-as-richest-women-in-the-world/\n",
      "21. https://www.forbes.com/video/6343611552112/how-this-nvidia-cofounder-got-a-quantum-computer-for-rpi/\n"
     ]
    }
   ],
   "source": [
    "# Ensure Pandas doesn't truncate long strings\n",
    "pd.set_option('display.max_colwidth', None)\n",
    "\n",
    "# Extract unique URLs from the 'url' column and reset the index\n",
    "unique_urls = nan_dates_df['url'].drop_duplicates().dropna().reset_index(drop=True)\n",
    "\n",
    "# Print each URL with a numbered label\n",
    "for i, url in enumerate(unique_urls, start=1):\n",
    "    print(f\"{i}. {url}\")\n"
   ]
  },
  {
   "cell_type": "markdown",
   "metadata": {},
   "source": [
    "**I went into these websites manually to find the dates: **\n",
    "\n",
    "1. https://councils.forbes.com/profile/Eli-David-Researcher-Lecturer/b5a70384-2c13-4600-bb28-25c8e1a22490 - Drop\n",
    "2. https://www.forbes.com/companies/bank-of-ny-mellon/ - Contains current data, 2025-02-19\n",
    "3. https://www.forbes.com/companies/bank-ozk/ - 2025-02-19\n",
    "4. https://www.forbes.com/companies/chipper-cash/ - 2025-02-19\n",
    "5. https://www.forbes.com/companies/dh-distributing/ - Drop\n",
    "6. https://www.forbes.com/companies/giant-eagle/ - Drop\n",
    "7. https://www.forbes.com/companies/jefferies-financial/ - 2025-02-19\n",
    "8. https://www.forbes.com/companies/mcconnell-jones/ - 2025-02-19\n",
    "9. https://www.forbes.com/companies/novo/ - 2025-02-19\n",
    "10. https://www.forbes.com/companies/schindler-holding/ - 2025-02-19\n",
    "11. https://www.forbes.com/companies/shenzhou-international-group-holdings/ - 2025-02-19\n",
    "12. https://www.forbes.com/pictures/6272f1a9d280e0fda2bb66d0/claire-delaunay-vice-pres/ - 2022-05-14\n",
    "13. https://www.forbes.com/pictures/6272f1a9d280e0fda2bb66d0/daniel-dines-confounder-a/ - 2022-05-04\n",
    "14. https://www.forbes.com/profile/matthew-fleissig/ - Drop\n",
    "15. https://www.forbes.com/sites/investor-hub/article/best-growth-stocks-for-next-5-years/ - 2025-02-02\n",
    "16. https://www.forbes.com/sites/investor-hub/article/nvidia-earnings-what-to-know-stock-report-q1-2025/ - 2025-02-15\n",
    "17. https://www.forbes.com/sites/investor-hub/article/nvidia-vs-amd-vs-intel-best-ai-stock-to-buy/ - 2025-02-04\n",
    "18. https://www.forbes.com/sites/investor-hub/article/top-sectors-growth-stocks-next-decade/ - 2025-02-13\n",
    "19. https://www.forbes.com/sites/investor-hub/article/where-will-nvidia-nvda-stock-be-5-years/ - 2024-08-26\n",
    "20. https://www.forbes.com/video/6315575904112/walmart-heir-unseated-as-richest-women-in-the-world/ - 2022-11-15\n",
    "21. https://www.forbes.com/video/6343611552112/how-this-nvidia-cofounder-got-a-quantum-computer-for-rpi/ - 2023-12-20"
   ]
  },
  {
   "cell_type": "code",
   "execution_count": 10,
   "metadata": {},
   "outputs": [
    {
     "name": "stdout",
     "output_type": "stream",
     "text": [
      "DataFrame now has 3219 rows.\n"
     ]
    }
   ],
   "source": [
    "\n",
    "# 1. Create a mapping of URL -> new date (or \"Drop\")\n",
    "url_updates = {\n",
    "    \"https://councils.forbes.com/profile/Eli-David-Researcher-Lecturer/b5a70384-2c13-4600-bb28-25c8e1a22490\": \"Drop\",\n",
    "    \"https://www.forbes.com/companies/bank-of-ny-mellon/\": \"2025-02-19\",\n",
    "    \"https://www.forbes.com/companies/bank-ozk/\": \"2025-02-19\",\n",
    "    \"https://www.forbes.com/companies/chipper-cash/\": \"2025-02-19\",\n",
    "    \"https://www.forbes.com/companies/dh-distributing/\": \"Drop\",\n",
    "    \"https://www.forbes.com/companies/giant-eagle/\": \"Drop\",\n",
    "    \"https://www.forbes.com/companies/jefferies-financial/\": \"2025-02-19\",\n",
    "    \"https://www.forbes.com/companies/mcconnell-jones/\": \"2025-02-19\",\n",
    "    \"https://www.forbes.com/companies/novo/\": \"2025-02-19\",\n",
    "    \"https://www.forbes.com/companies/schindler-holding/\": \"2025-02-19\",\n",
    "    \"https://www.forbes.com/companies/shenzhou-international-group-holdings/\": \"2025-02-19\",\n",
    "    \"https://www.forbes.com/pictures/6272f1a9d280e0fda2bb66d0/claire-delaunay-vice-pres/\": \"2022-05-14\",\n",
    "    \"https://www.forbes.com/pictures/6272f1a9d280e0fda2bb66d0/daniel-dines-confounder-a/\": \"2022-05-04\",\n",
    "    \"https://www.forbes.com/profile/matthew-fleissig/\": \"Drop\",\n",
    "    \"https://www.forbes.com/sites/investor-hub/article/best-growth-stocks-for-next-5-years/\": \"2025-02-02\",\n",
    "    \"https://www.forbes.com/sites/investor-hub/article/nvidia-earnings-what-to-know-stock-report-q1-2025/\": \"2025-02-15\",\n",
    "    \"https://www.forbes.com/sites/investor-hub/article/nvidia-vs-amd-vs-intel-best-ai-stock-to-buy/\": \"2025-02-04\",\n",
    "    \"https://www.forbes.com/sites/investor-hub/article/top-sectors-growth-stocks-next-decade/\": \"2025-02-13\",\n",
    "    \"https://www.forbes.com/sites/investor-hub/article/where-will-nvidia-nvda-stock-be-5-years/\": \"2024-08-26\",\n",
    "    \"https://www.forbes.com/video/6315575904112/walmart-heir-unseated-as-richest-women-in-the-world/\": \"2022-11-15\",\n",
    "    \"https://www.forbes.com/video/6343611552112/how-this-nvidia-cofounder-got-a-quantum-computer-for-rpi/\": \"2023-12-20\"\n",
    "}\n",
    "\n",
    "# 2. Loop over each URL in the mapping\n",
    "for url, date_val in url_updates.items():\n",
    "    if date_val == \"Drop\":\n",
    "        # Remove rows matching this URL\n",
    "        df = df[df['url'] != url]\n",
    "    else:\n",
    "        # Update the date for rows matching this URL\n",
    "        df.loc[df['url'] == url, 'date'] = date_val\n",
    "\n",
    "# 3. (Optional) Check how many rows remain and preview\n",
    "print(f\"DataFrame now has {len(df)} rows.\")\n"
   ]
  },
  {
   "cell_type": "markdown",
   "metadata": {},
   "source": [
    "1 Final check to ensure all the dates are formatted correctly:"
   ]
  },
  {
   "cell_type": "code",
   "execution_count": 12,
   "metadata": {},
   "outputs": [
    {
     "name": "stdout",
     "output_type": "stream",
     "text": [
      "  Date Format  Count\n",
      "0  YYYY-MM-DD   3219\n"
     ]
    }
   ],
   "source": [
    "# 3. Apply classification to the 'date' column\n",
    "df['date_format'] = df['date'].astype(str).apply(classify_format)\n",
    "\n",
    "# 4. Count occurrences of each format\n",
    "format_counts = df['date_format'].value_counts().reset_index()\n",
    "format_counts.columns = ['Date Format', 'Count']\n",
    "\n",
    "# 5. Display the results\n",
    "print(format_counts)"
   ]
  },
  {
   "cell_type": "markdown",
   "metadata": {},
   "source": [
    "## **Class Imbalances**\n",
    "---\n",
    "The following are to address class imbalances for the forbes pulled data:\n"
   ]
  },
  {
   "cell_type": "code",
   "execution_count": 13,
   "metadata": {},
   "outputs": [
    {
     "data": {
      "image/png": "[encoded data removed]",
      "text/plain": [
       "<Figure size 800x500 with 1 Axes>"
      ]
     },
     "metadata": {},
     "output_type": "display_data"
    }
   ],
   "source": [
    "# Count occurrences of each category\n",
    "category_counts = df['numeric_label'].value_counts()\n",
    "\n",
    "# Plot histogram\n",
    "plt.figure(figsize=(8,5))\n",
    "bars = plt.bar(category_counts.index, category_counts.values, color='skyblue')\n",
    "plt.xlabel('Category')\n",
    "plt.ylabel('Count')\n",
    "plt.title('Histogram of Categorical Variable')\n",
    "\n",
    "# Add numeric labels on top of each bar\n",
    "for bar in bars:\n",
    "    height = bar.get_height()\n",
    "    plt.text(bar.get_x() + bar.get_width() / 2, height + 0.5, f'{int(height)}', \n",
    "             ha='center', va='bottom', fontsize=10)\n",
    "\n",
    "plt.show()\n"
   ]
  },
  {
   "cell_type": "markdown",
   "metadata": {},
   "source": [
    "### Hotfix: Undersampling"
   ]
  },
  {
   "cell_type": "markdown",
   "metadata": {},
   "source": [
    "We will be saving 2 seperate files therefore: an under-sampled file that contains equal parts of sentiment for all data (for immediate training), and the full, cleaned dataset, which we will prune later."
   ]
  },
  {
   "cell_type": "code",
   "execution_count": 14,
   "metadata": {},
   "outputs": [
    {
     "data": {
      "image/png": "[encoded data removed]",
      "text/plain": [
       "<Figure size 800x500 with 1 Axes>"
      ]
     },
     "metadata": {},
     "output_type": "display_data"
    }
   ],
   "source": [
    "\n",
    "\n",
    "# 2. Undersample to balance classes\n",
    "#    Let's assume your classes are in the column 'numeric_label'\n",
    "class_counts = df['numeric_label'].value_counts()\n",
    "min_count = class_counts.min()\n",
    "\n",
    "# For each class, sample 'min_count' rows\n",
    "balanced_dfs = []\n",
    "for sentiment_value in class_counts.index:\n",
    "    class_df = df[df['numeric_label'] == sentiment_value]\n",
    "    class_df_undersampled = class_df.sample(n=min_count, random_state=42)\n",
    "    balanced_dfs.append(class_df_undersampled)\n",
    "\n",
    "# Combine them into a balanced DataFrame\n",
    "df_undersampled = pd.concat(balanced_dfs).sample(frac=1, random_state=42).reset_index(drop=True)\n",
    "\n",
    "\n",
    "category_counts = df_undersampled['numeric_label'].value_counts()\n",
    "\n",
    "# Plot histogram\n",
    "plt.figure(figsize=(8,5))\n",
    "bars = plt.bar(category_counts.index, category_counts.values, color='skyblue')\n",
    "plt.xlabel('Category')\n",
    "plt.ylabel('Count')\n",
    "plt.title('Histogram of Categorical Variable')\n",
    "\n",
    "# Add numeric labels on top of each bar\n",
    "for bar in bars:\n",
    "    height = bar.get_height()\n",
    "    plt.text(bar.get_x() + bar.get_width() / 2, height + 0.5, f'{int(height)}', \n",
    "             ha='center', va='bottom', fontsize=10)\n",
    "\n",
    "plt.show()\n",
    "\n"
   ]
  },
  {
   "cell_type": "code",
   "execution_count": 15,
   "metadata": {},
   "outputs": [
    {
     "name": "stdout",
     "output_type": "stream",
     "text": [
      "Files saved:\n",
      "- Scrutinize/nvda_sentence_sentiment_dataset_forbes_cleaned.csv (full dataset)\n",
      "- sentiment_data.csv (undersampled, balanced dataset)\n"
     ]
    }
   ],
   "source": [
    "df.drop(columns=[\"date_format\"], inplace=True)\n",
    "df_undersampled.drop(columns=[\"date_format\"], inplace=True)\n",
    "\n",
    "df_undersampled.to_csv(\"sentiment_data.csv\", index=False)\n",
    "df.to_csv(\"Scrutinize/nvda_sentence_sentiment_dataset_forbes_cleaned.csv\", index=False)\n",
    "print(\"Files saved:\\n- Scrutinize/nvda_sentence_sentiment_dataset_forbes_cleaned.csv (full dataset)\\n- sentiment_data.csv (undersampled, balanced dataset)\")\n"
   ]
  },
  {
   "cell_type": "markdown",
   "metadata": {},
   "source": [
    "# **Future Work:**\n",
    "---\n",
    "I will come back to the cleaned dataset and manually classify sentiment with a friend of mine in finance. We will then use this dataset to train sentiment instead of pre-trained Fin-BERT sentiments. This will take a while, and as we expand to more financial information, we will need to look into alternative methods."
   ]
  },
  {
   "cell_type": "markdown",
   "metadata": {},
   "source": [
    "### Current Help Needed:\n",
    "---\n",
    "If you can Work on \n",
    " - data augmentation via synonym translation, back translating, and/or creating textual embeddings with the -1 and +1 samples of this dataset\n",
    " - Using SMOTE to create new data for -1 samples and +1 samples\n",
    "\n",
    "That will be greatly appreciated.\n"
   ]
  }
 ],
 "metadata": {
  "kernelspec": {
   "display_name": "Python 3",
   "language": "python",
   "name": "python3"
  },
  "language_info": {
   "codemirror_mode": {
    "name": "ipython",
    "version": 3
   },
   "file_extension": ".py",
   "mimetype": "text/x-python",
   "name": "python",
   "nbconvert_exporter": "python",
   "pygments_lexer": "ipython3",
   "version": "3.11.9"
  }
 },
 "nbformat": 4,
 "nbformat_minor": 2
}
